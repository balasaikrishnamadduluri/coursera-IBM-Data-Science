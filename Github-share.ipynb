{
 "cells": [
  {
   "cell_type": "markdown",
   "id": "9535672c",
   "metadata": {},
   "source": [
    "Data Science Tools and Ecosystem"
   ]
  },
  {
   "cell_type": "markdown",
   "id": "c6c7463a",
   "metadata": {},
   "source": [
    "This Notebook has Summary of Data Science tools and ecosystem"
   ]
  },
  {
   "cell_type": "markdown",
   "id": "6fd55acc",
   "metadata": {},
   "source": [
    "Data science languages:\n",
    "\n",
    "Python\n",
    "\n",
    "R\n",
    "\n",
    "SQL\n",
    "\n",
    "Scala\n",
    "\n",
    "Java\n",
    "\n",
    "C++\n",
    "\n",
    "Julia\n",
    "\n",
    "JavaScript\n",
    "\n",
    "PHP\n",
    "\n",
    "Go\n",
    "\n",
    "Ruby\n",
    "\n",
    "Visual Basic"
   ]
  },
  {
   "cell_type": "markdown",
   "id": "bc7fc50c",
   "metadata": {},
   "source": [
    "Data science libraries:\n",
    "\n",
    "Pandas\n",
    "\n",
    "Numpy\n",
    "\n",
    "Matplotlib\n",
    "\n",
    "Seaborn\n",
    "\n",
    "Scikit-learn\n",
    "\n",
    "Keras\n",
    "\n",
    "TensorFlow\n",
    "\n",
    "PyTorch\n",
    "\n",
    "Apache Spark\n",
    "\n",
    "Vegas\n",
    "\n",
    "Big DL\n",
    "\n",
    "Ggplot2"
   ]
  },
  {
   "cell_type": "markdown",
   "id": "45fb133c",
   "metadata": {},
   "source": [
    "Data Science tools:\n",
    "\n",
    "Anaconda\n",
    "\n",
    "Jupyter Notebook\n",
    "\n",
    "RStudio"
   ]
  },
  {
   "cell_type": "markdown",
   "id": "290c23ce",
   "metadata": {},
   "source": [
    "Introducing arithmetic expression examples:"
   ]
  },
  {
   "cell_type": "code",
   "execution_count": 5,
   "id": "e6782bf2",
   "metadata": {},
   "outputs": [
    {
     "name": "stdout",
     "output_type": "stream",
     "text": [
      "24\n"
     ]
    }
   ],
   "source": [
    "A=4\n",
    "B=6\n",
    "C=A*B #Multiplication\n",
    "print(C)"
   ]
  },
  {
   "cell_type": "code",
   "execution_count": 6,
   "id": "d4937b7d",
   "metadata": {},
   "outputs": [
    {
     "name": "stdout",
     "output_type": "stream",
     "text": [
      "12\n"
     ]
    }
   ],
   "source": [
    "A=5\n",
    "B=7\n",
    "C=A+B #Addition\n",
    "print(C)"
   ]
  },
  {
   "cell_type": "code",
   "execution_count": 7,
   "id": "fbc2a884",
   "metadata": {},
   "outputs": [
    {
     "name": "stdout",
     "output_type": "stream",
     "text": [
      "4.0\n"
     ]
    }
   ],
   "source": [
    "Minutes=240\n",
    "Hours= Minutes/60\n",
    "print(Hours)"
   ]
  },
  {
   "cell_type": "markdown",
   "id": "7ca24f5d",
   "metadata": {},
   "source": [
    "Objectives:\n",
    "\n",
    "Adding markdowns\n",
    "Creating codecells\n",
    "Adding Comments\n"
   ]
  },
  {
   "cell_type": "markdown",
   "id": "6eb3da6b",
   "metadata": {},
   "source": [
    "Navyaka Kandula"
   ]
  }
 ],
 "metadata": {
  "kernelspec": {
   "display_name": "Python 3 (ipykernel)",
   "language": "python",
   "name": "python3"
  },
  "language_info": {
   "codemirror_mode": {
    "name": "ipython",
    "version": 3
   },
   "file_extension": ".py",
   "mimetype": "text/x-python",
   "name": "python",
   "nbconvert_exporter": "python",
   "pygments_lexer": "ipython3",
   "version": "3.9.13"
  }
 },
 "nbformat": 4,
 "nbformat_minor": 5
}
